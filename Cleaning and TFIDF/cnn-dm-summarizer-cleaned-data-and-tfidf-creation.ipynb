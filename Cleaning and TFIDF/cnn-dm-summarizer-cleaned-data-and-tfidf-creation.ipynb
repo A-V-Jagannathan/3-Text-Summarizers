{
 "cells": [
  {
   "cell_type": "code",
   "execution_count": 1,
   "id": "d15c0689",
   "metadata": {
    "_cell_guid": "b1076dfc-b9ad-4769-8c92-a6c4dae69d19",
    "_uuid": "8f2839f25d086af736a60e9eeb907d3b93b6e0e5",
    "execution": {
     "iopub.execute_input": "2023-07-27T04:25:58.389131Z",
     "iopub.status.busy": "2023-07-27T04:25:58.388291Z",
     "iopub.status.idle": "2023-07-27T04:25:58.437681Z",
     "shell.execute_reply": "2023-07-27T04:25:58.436609Z"
    },
    "papermill": {
     "duration": 0.059057,
     "end_time": "2023-07-27T04:25:58.440018",
     "exception": false,
     "start_time": "2023-07-27T04:25:58.380961",
     "status": "completed"
    },
    "tags": []
   },
   "outputs": [
    {
     "name": "stdout",
     "output_type": "stream",
     "text": [
      "/kaggle/input/newspaper-text-summarization-cnn-dailymail/cnn_dailymail/validation.csv\n",
      "/kaggle/input/newspaper-text-summarization-cnn-dailymail/cnn_dailymail/train.csv\n",
      "/kaggle/input/newspaper-text-summarization-cnn-dailymail/cnn_dailymail/test.csv\n"
     ]
    }
   ],
   "source": [
    "# This Python 3 environment comes with many helpful analytics libraries installed\n",
    "# It is defined by the kaggle/python Docker image: https://github.com/kaggle/docker-python\n",
    "# For example, here's several helpful packages to load\n",
    "\n",
    "import numpy as np # linear algebra\n",
    "import pandas as pd # data processing, CSV file I/O (e.g. pd.read_csv)\n",
    "\n",
    "# Input data files are available in the read-only \"../input/\" directory\n",
    "# For example, running this (by clicking run or pressing Shift+Enter) will list all files under the input directory\n",
    "\n",
    "import os\n",
    "for dirname, _, filenames in os.walk('/kaggle/input'):\n",
    "    for filename in filenames:\n",
    "        print(os.path.join(dirname, filename))\n",
    "\n",
    "# You can write up to 20GB to the current directory (/kaggle/working/) that gets preserved as output when you create a version using \"Save & Run All\" \n",
    "# You can also write temporary files to /kaggle/temp/, but they won't be saved outside of the current session"
   ]
  },
  {
   "cell_type": "code",
   "execution_count": 2,
   "id": "250bdf45",
   "metadata": {
    "execution": {
     "iopub.execute_input": "2023-07-27T04:25:58.450861Z",
     "iopub.status.busy": "2023-07-27T04:25:58.450113Z",
     "iopub.status.idle": "2023-07-27T04:26:32.335109Z",
     "shell.execute_reply": "2023-07-27T04:26:32.333776Z"
    },
    "papermill": {
     "duration": 33.893709,
     "end_time": "2023-07-27T04:26:32.338207",
     "exception": false,
     "start_time": "2023-07-27T04:25:58.444498",
     "status": "completed"
    },
    "tags": []
   },
   "outputs": [],
   "source": [
    "df=pd.read_csv(\"/kaggle/input/newspaper-text-summarization-cnn-dailymail/cnn_dailymail/train.csv\")"
   ]
  },
  {
   "cell_type": "code",
   "execution_count": 3,
   "id": "d966e209",
   "metadata": {
    "execution": {
     "iopub.execute_input": "2023-07-27T04:26:32.349786Z",
     "iopub.status.busy": "2023-07-27T04:26:32.349294Z",
     "iopub.status.idle": "2023-07-27T04:26:46.843886Z",
     "shell.execute_reply": "2023-07-27T04:26:46.842394Z"
    },
    "papermill": {
     "duration": 14.50409,
     "end_time": "2023-07-27T04:26:46.846965",
     "exception": false,
     "start_time": "2023-07-27T04:26:32.342875",
     "status": "completed"
    },
    "tags": []
   },
   "outputs": [
    {
     "name": "stdout",
     "output_type": "stream",
     "text": [
      "Collecting contractions\r\n",
      "  Downloading contractions-0.1.73-py2.py3-none-any.whl (8.7 kB)\r\n",
      "Collecting textsearch>=0.0.21 (from contractions)\r\n",
      "  Downloading textsearch-0.0.24-py2.py3-none-any.whl (7.6 kB)\r\n",
      "Collecting anyascii (from textsearch>=0.0.21->contractions)\r\n",
      "  Downloading anyascii-0.3.2-py3-none-any.whl (289 kB)\r\n",
      "\u001b[2K     \u001b[90m━━━━━━━━━━━━━━━━━━━━━━━━━━━━━━━━━━━━━━━\u001b[0m \u001b[32m289.9/289.9 kB\u001b[0m \u001b[31m5.4 MB/s\u001b[0m eta \u001b[36m0:00:00\u001b[0m\r\n",
      "\u001b[?25hCollecting pyahocorasick (from textsearch>=0.0.21->contractions)\r\n",
      "  Downloading pyahocorasick-2.0.0-cp310-cp310-manylinux_2_5_x86_64.manylinux1_x86_64.manylinux_2_12_x86_64.manylinux2010_x86_64.whl (110 kB)\r\n",
      "\u001b[2K     \u001b[90m━━━━━━━━━━━━━━━━━━━━━━━━━━━━━━━━━━━━━━━\u001b[0m \u001b[32m110.8/110.8 kB\u001b[0m \u001b[31m9.4 MB/s\u001b[0m eta \u001b[36m0:00:00\u001b[0m\r\n",
      "\u001b[?25hInstalling collected packages: pyahocorasick, anyascii, textsearch, contractions\r\n",
      "Successfully installed anyascii-0.3.2 contractions-0.1.73 pyahocorasick-2.0.0 textsearch-0.0.24\r\n"
     ]
    }
   ],
   "source": [
    "!pip install contractions"
   ]
  },
  {
   "cell_type": "markdown",
   "id": "365b69e3",
   "metadata": {
    "papermill": {
     "duration": 0.005064,
     "end_time": "2023-07-27T04:26:46.857527",
     "exception": false,
     "start_time": "2023-07-27T04:26:46.852463",
     "status": "completed"
    },
    "tags": []
   },
   "source": [
    "Helper functions"
   ]
  },
  {
   "cell_type": "code",
   "execution_count": 4,
   "id": "c30a8c3c",
   "metadata": {
    "execution": {
     "iopub.execute_input": "2023-07-27T04:26:46.869632Z",
     "iopub.status.busy": "2023-07-27T04:26:46.869222Z",
     "iopub.status.idle": "2023-07-27T04:26:46.882954Z",
     "shell.execute_reply": "2023-07-27T04:26:46.881806Z"
    },
    "papermill": {
     "duration": 0.022606,
     "end_time": "2023-07-27T04:26:46.885159",
     "exception": false,
     "start_time": "2023-07-27T04:26:46.862553",
     "status": "completed"
    },
    "tags": []
   },
   "outputs": [],
   "source": [
    "#used to regex clean\n",
    "def re_clean(text):\n",
    "    import re\n",
    "    text = re.sub(r'https?:\\/\\/.*[\\r\\n]*', ' ', text, flags=re.MULTILINE)\n",
    "    text = re.sub(r'\\<a href', ' ', text)\n",
    "    text = re.sub(r'&amp;', ' ', text) \n",
    "    text = re.sub(r'[_\\-;%()|+&=*%:#$@\\[\\]/]', ' ', text)\n",
    "    text = re.sub(r'<br />', ' ', text)\n",
    "    text = re.sub(r'\\'', ' ', text)\n",
    "    text=re.sub(r'\\n',' ',text)\n",
    "    text=re.sub(' est ',' ',text)\n",
    "    text=re.sub(r'[?!]','.',text)\n",
    "    return text\n",
    "#used to expand contractions\n",
    "def expand(text):\n",
    "    import contractions\n",
    "    text=text.split()\n",
    "    final=[]\n",
    "    for word in text:\n",
    "        try:\n",
    "            final.append(contractions.fix(word)+\" \") \n",
    "        except:\n",
    "            final.append(word+\" \")\n",
    "            print(word)\n",
    "    return \"\".join(final)\n",
    "def remove(texts):\n",
    "    final=[]\n",
    "    for text in texts:\n",
    "        sents=[]\n",
    "        sentences=text.split(\".\")\n",
    "        for sentence in sentences:\n",
    "            if(len(sentence.split())>=5):\n",
    "                sents.append(sentence+\".\")\n",
    "        final.append(\"\".join(sents))\n",
    "    return final\n",
    "def removeTag(texts):\n",
    "    final=[]\n",
    "    #removing cnn and est\n",
    "    for text in texts:\n",
    "        cnn=text.find(\"cnn\")\n",
    "        if(cnn!=-1 and cnn<len(text)//10):\n",
    "            text=text[cnn+3:]\n",
    "        found=False\n",
    "        for i in range(2):\n",
    "            est=text.find(\" est,\")\n",
    "            if(est<len(text)//5 and est!=-1):\n",
    "                text=text[est+5:]\n",
    "                found=True\n",
    "        fs=text.find(\".\")\n",
    "        if(fs<20 and fs!=-1 and found):\n",
    "            text=text[fs:]\n",
    "        final.append(text)\n",
    "    return final\n",
    "        \n",
    "    \n",
    "\n"
   ]
  },
  {
   "cell_type": "code",
   "execution_count": 5,
   "id": "e5224028",
   "metadata": {
    "execution": {
     "iopub.execute_input": "2023-07-27T04:26:46.897362Z",
     "iopub.status.busy": "2023-07-27T04:26:46.896883Z",
     "iopub.status.idle": "2023-07-27T04:26:46.903864Z",
     "shell.execute_reply": "2023-07-27T04:26:46.902738Z"
    },
    "papermill": {
     "duration": 0.015971,
     "end_time": "2023-07-27T04:26:46.906274",
     "exception": false,
     "start_time": "2023-07-27T04:26:46.890303",
     "status": "completed"
    },
    "tags": []
   },
   "outputs": [],
   "source": [
    "texts=df.iloc[:,1]"
   ]
  },
  {
   "cell_type": "code",
   "execution_count": 6,
   "id": "15e8d65b",
   "metadata": {
    "execution": {
     "iopub.execute_input": "2023-07-27T04:26:46.919211Z",
     "iopub.status.busy": "2023-07-27T04:26:46.918027Z",
     "iopub.status.idle": "2023-07-27T04:38:41.755319Z",
     "shell.execute_reply": "2023-07-27T04:38:41.753977Z"
    },
    "papermill": {
     "duration": 714.847278,
     "end_time": "2023-07-27T04:38:41.758666",
     "exception": false,
     "start_time": "2023-07-27T04:26:46.911388",
     "status": "completed"
    },
    "tags": []
   },
   "outputs": [
    {
     "name": "stdout",
     "output_type": "stream",
     "text": [
      "İbrahim\n",
      "İbrahim\n",
      "İbrahim\n"
     ]
    }
   ],
   "source": [
    "new_texts=[]\n",
    "for i in texts:\n",
    "    new_texts.append(expand(re_clean(i)).lower())\n",
    "finalcleaned=removeTag(remove(new_texts))"
   ]
  },
  {
   "cell_type": "code",
   "execution_count": 7,
   "id": "260e37c9",
   "metadata": {
    "execution": {
     "iopub.execute_input": "2023-07-27T04:38:41.795330Z",
     "iopub.status.busy": "2023-07-27T04:38:41.794863Z",
     "iopub.status.idle": "2023-07-27T04:38:41.824597Z",
     "shell.execute_reply": "2023-07-27T04:38:41.823352Z"
    },
    "papermill": {
     "duration": 0.061948,
     "end_time": "2023-07-27T04:38:41.827056",
     "exception": false,
     "start_time": "2023-07-27T04:38:41.765108",
     "status": "completed"
    },
    "tags": []
   },
   "outputs": [],
   "source": [
    "summaries=df.iloc[:,2]"
   ]
  },
  {
   "cell_type": "code",
   "execution_count": 8,
   "id": "9e326728",
   "metadata": {
    "execution": {
     "iopub.execute_input": "2023-07-27T04:38:41.847011Z",
     "iopub.status.busy": "2023-07-27T04:38:41.846570Z",
     "iopub.status.idle": "2023-07-27T04:39:36.831374Z",
     "shell.execute_reply": "2023-07-27T04:39:36.830479Z"
    },
    "papermill": {
     "duration": 55.001261,
     "end_time": "2023-07-27T04:39:36.834068",
     "exception": false,
     "start_time": "2023-07-27T04:38:41.832807",
     "status": "completed"
    },
    "tags": []
   },
   "outputs": [],
   "source": [
    "new_summaries=[]\n",
    "for i in summaries:\n",
    "    new_summaries.append(expand(re_clean(i)).lower())"
   ]
  },
  {
   "cell_type": "code",
   "execution_count": 9,
   "id": "e64ccfdf",
   "metadata": {
    "execution": {
     "iopub.execute_input": "2023-07-27T04:39:36.847990Z",
     "iopub.status.busy": "2023-07-27T04:39:36.847387Z",
     "iopub.status.idle": "2023-07-27T04:39:37.081880Z",
     "shell.execute_reply": "2023-07-27T04:39:37.080492Z"
    },
    "papermill": {
     "duration": 0.24504,
     "end_time": "2023-07-27T04:39:37.084806",
     "exception": false,
     "start_time": "2023-07-27T04:39:36.839766",
     "status": "completed"
    },
    "tags": []
   },
   "outputs": [],
   "source": [
    "newdf=pd.DataFrame()\n",
    "newdf[\"Texts\"]=finalcleaned\n",
    "newdf[\"Summaries\"]=new_summaries"
   ]
  },
  {
   "cell_type": "code",
   "execution_count": 10,
   "id": "9902ff03",
   "metadata": {
    "execution": {
     "iopub.execute_input": "2023-07-27T04:39:37.098006Z",
     "iopub.status.busy": "2023-07-27T04:39:37.097598Z",
     "iopub.status.idle": "2023-07-27T04:40:14.641923Z",
     "shell.execute_reply": "2023-07-27T04:40:14.640406Z"
    },
    "papermill": {
     "duration": 37.554639,
     "end_time": "2023-07-27T04:40:14.644876",
     "exception": false,
     "start_time": "2023-07-27T04:39:37.090237",
     "status": "completed"
    },
    "tags": []
   },
   "outputs": [],
   "source": [
    "newdf.to_csv(\"Cleaned.csv\")"
   ]
  },
  {
   "cell_type": "code",
   "execution_count": 11,
   "id": "7dc77a54",
   "metadata": {
    "execution": {
     "iopub.execute_input": "2023-07-27T04:40:14.657954Z",
     "iopub.status.busy": "2023-07-27T04:40:14.657570Z",
     "iopub.status.idle": "2023-07-27T04:40:14.681880Z",
     "shell.execute_reply": "2023-07-27T04:40:14.680805Z"
    },
    "papermill": {
     "duration": 0.033927,
     "end_time": "2023-07-27T04:40:14.684431",
     "exception": false,
     "start_time": "2023-07-27T04:40:14.650504",
     "status": "completed"
    },
    "tags": []
   },
   "outputs": [
    {
     "data": {
      "text/html": [
       "<div>\n",
       "<style scoped>\n",
       "    .dataframe tbody tr th:only-of-type {\n",
       "        vertical-align: middle;\n",
       "    }\n",
       "\n",
       "    .dataframe tbody tr th {\n",
       "        vertical-align: top;\n",
       "    }\n",
       "\n",
       "    .dataframe thead th {\n",
       "        text-align: right;\n",
       "    }\n",
       "</style>\n",
       "<table border=\"1\" class=\"dataframe\">\n",
       "  <thead>\n",
       "    <tr style=\"text-align: right;\">\n",
       "      <th></th>\n",
       "      <th>Texts</th>\n",
       "      <th>Summaries</th>\n",
       "    </tr>\n",
       "  </thead>\n",
       "  <tbody>\n",
       "    <tr>\n",
       "      <th>0</th>\n",
       "      <td>. the bishop of the fargo catholic diocese in ...</td>\n",
       "      <td>bishop john folda, of north dakota, is taking ...</td>\n",
       "    </tr>\n",
       "    <tr>\n",
       "      <th>1</th>\n",
       "      <td>ralph mata was an internal affairs lieutenant...</td>\n",
       "      <td>criminal complaint cop used his role to help c...</td>\n",
       "    </tr>\n",
       "    <tr>\n",
       "      <th>2</th>\n",
       "      <td>a drunk driver who killed a young woman in a h...</td>\n",
       "      <td>craig eccleston todd, 27, had drunk at least t...</td>\n",
       "    </tr>\n",
       "    <tr>\n",
       "      <th>3</th>\n",
       "      <td>with a breezy sweep of his pen president vlad...</td>\n",
       "      <td>nina dos santos says europe must be ready to a...</td>\n",
       "    </tr>\n",
       "    <tr>\n",
       "      <th>4</th>\n",
       "      <td>fleetwood are the only team still to have a 10...</td>\n",
       "      <td>fleetwood top of league one after 2 0 win at s...</td>\n",
       "    </tr>\n",
       "    <tr>\n",
       "      <th>...</th>\n",
       "      <td>...</td>\n",
       "      <td>...</td>\n",
       "    </tr>\n",
       "    <tr>\n",
       "      <th>287108</th>\n",
       "      <td>former first daughter chelsea clinton has ind...</td>\n",
       "      <td>chelsea clinton said question of running for o...</td>\n",
       "    </tr>\n",
       "    <tr>\n",
       "      <th>287109</th>\n",
       "      <td>an apologetic vanilla ice has given his first ...</td>\n",
       "      <td>vanilla ice, 47 real name robert van winkle wa...</td>\n",
       "    </tr>\n",
       "    <tr>\n",
       "      <th>287110</th>\n",
       "      <td>america s most lethal sniper claimed he wished...</td>\n",
       "      <td>america s most lethal sniper made comment in i...</td>\n",
       "    </tr>\n",
       "    <tr>\n",
       "      <th>287111</th>\n",
       "      <td>. israel has been invaded by a swarm of more t...</td>\n",
       "      <td>a swarm of more than one million has crossed b...</td>\n",
       "    </tr>\n",
       "    <tr>\n",
       "      <th>287112</th>\n",
       "      <td>jeb bush has decided to \"actively explore\" a ...</td>\n",
       "      <td>other 2016 hopefuls maintain that bush s annou...</td>\n",
       "    </tr>\n",
       "  </tbody>\n",
       "</table>\n",
       "<p>287113 rows × 2 columns</p>\n",
       "</div>"
      ],
      "text/plain": [
       "                                                    Texts  \\\n",
       "0       . the bishop of the fargo catholic diocese in ...   \n",
       "1        ralph mata was an internal affairs lieutenant...   \n",
       "2       a drunk driver who killed a young woman in a h...   \n",
       "3        with a breezy sweep of his pen president vlad...   \n",
       "4       fleetwood are the only team still to have a 10...   \n",
       "...                                                   ...   \n",
       "287108   former first daughter chelsea clinton has ind...   \n",
       "287109  an apologetic vanilla ice has given his first ...   \n",
       "287110  america s most lethal sniper claimed he wished...   \n",
       "287111  . israel has been invaded by a swarm of more t...   \n",
       "287112   jeb bush has decided to \"actively explore\" a ...   \n",
       "\n",
       "                                                Summaries  \n",
       "0       bishop john folda, of north dakota, is taking ...  \n",
       "1       criminal complaint cop used his role to help c...  \n",
       "2       craig eccleston todd, 27, had drunk at least t...  \n",
       "3       nina dos santos says europe must be ready to a...  \n",
       "4       fleetwood top of league one after 2 0 win at s...  \n",
       "...                                                   ...  \n",
       "287108  chelsea clinton said question of running for o...  \n",
       "287109  vanilla ice, 47 real name robert van winkle wa...  \n",
       "287110  america s most lethal sniper made comment in i...  \n",
       "287111  a swarm of more than one million has crossed b...  \n",
       "287112  other 2016 hopefuls maintain that bush s annou...  \n",
       "\n",
       "[287113 rows x 2 columns]"
      ]
     },
     "execution_count": 11,
     "metadata": {},
     "output_type": "execute_result"
    }
   ],
   "source": [
    "newdf"
   ]
  },
  {
   "cell_type": "code",
   "execution_count": 12,
   "id": "2b4d149e",
   "metadata": {
    "execution": {
     "iopub.execute_input": "2023-07-27T04:40:14.697692Z",
     "iopub.status.busy": "2023-07-27T04:40:14.696999Z",
     "iopub.status.idle": "2023-07-27T04:41:19.141302Z",
     "shell.execute_reply": "2023-07-27T04:41:19.139561Z"
    },
    "papermill": {
     "duration": 64.454121,
     "end_time": "2023-07-27T04:41:19.144248",
     "exception": false,
     "start_time": "2023-07-27T04:40:14.690127",
     "status": "completed"
    },
    "tags": []
   },
   "outputs": [],
   "source": [
    "\n",
    "def words(texts):\n",
    "    import re\n",
    "    setofwords=set()\n",
    "    for text in texts:\n",
    "        text=re.sub(r'[.,]',' ',text)\n",
    "        words=text.split()\n",
    "        for word in words:\n",
    "            setofwords.add(word)\n",
    "    return setofwords\n",
    "swords=words(finalcleaned)\n",
    "\n"
   ]
  },
  {
   "cell_type": "markdown",
   "id": "fd227b49",
   "metadata": {
    "papermill": {
     "duration": 0.005974,
     "end_time": "2023-07-27T04:41:19.156975",
     "exception": false,
     "start_time": "2023-07-27T04:41:19.151001",
     "status": "completed"
    },
    "tags": []
   },
   "source": [
    "IDF calculation"
   ]
  },
  {
   "cell_type": "code",
   "execution_count": 13,
   "id": "56749e71",
   "metadata": {
    "execution": {
     "iopub.execute_input": "2023-07-27T04:41:19.171112Z",
     "iopub.status.busy": "2023-07-27T04:41:19.170692Z",
     "iopub.status.idle": "2023-07-27T04:42:59.771514Z",
     "shell.execute_reply": "2023-07-27T04:42:59.770002Z"
    },
    "papermill": {
     "duration": 100.61199,
     "end_time": "2023-07-27T04:42:59.774997",
     "exception": false,
     "start_time": "2023-07-27T04:41:19.163007",
     "status": "completed"
    },
    "tags": []
   },
   "outputs": [],
   "source": [
    "import re\n",
    "import math\n",
    "freq={}\n",
    "for i in swords:\n",
    "    freq[i]=0\n",
    "for text in finalcleaned:\n",
    "    text=re.sub(r'[,.]',' ',text)\n",
    "    ws=set(text.split())\n",
    "    for i in ws:\n",
    "        if(i in freq):\n",
    "            freq[i]+=1\n",
    "n=len(finalcleaned)\n",
    "idf={}\n",
    "for i in freq:\n",
    "    idf[i]=math.log(n/freq[i])"
   ]
  },
  {
   "cell_type": "code",
   "execution_count": 14,
   "id": "ca8331cc",
   "metadata": {
    "execution": {
     "iopub.execute_input": "2023-07-27T04:42:59.789248Z",
     "iopub.status.busy": "2023-07-27T04:42:59.788843Z",
     "iopub.status.idle": "2023-07-27T04:43:00.128351Z",
     "shell.execute_reply": "2023-07-27T04:43:00.126990Z"
    },
    "papermill": {
     "duration": 0.350192,
     "end_time": "2023-07-27T04:43:00.131559",
     "exception": false,
     "start_time": "2023-07-27T04:42:59.781367",
     "status": "completed"
    },
    "tags": []
   },
   "outputs": [],
   "source": [
    "import pickle\n",
    "with open(\"idf.pkl\",\"wb\") as f:\n",
    "    pickle.dump(idf,f)"
   ]
  }
 ],
 "metadata": {
  "kernelspec": {
   "display_name": "Python 3",
   "language": "python",
   "name": "python3"
  },
  "language_info": {
   "codemirror_mode": {
    "name": "ipython",
    "version": 3
   },
   "file_extension": ".py",
   "mimetype": "text/x-python",
   "name": "python",
   "nbconvert_exporter": "python",
   "pygments_lexer": "ipython3",
   "version": "3.10.12"
  },
  "papermill": {
   "default_parameters": {},
   "duration": 1034.134671,
   "end_time": "2023-07-27T04:43:03.057238",
   "environment_variables": {},
   "exception": null,
   "input_path": "__notebook__.ipynb",
   "output_path": "__notebook__.ipynb",
   "parameters": {},
   "start_time": "2023-07-27T04:25:48.922567",
   "version": "2.4.0"
  }
 },
 "nbformat": 4,
 "nbformat_minor": 5
}
